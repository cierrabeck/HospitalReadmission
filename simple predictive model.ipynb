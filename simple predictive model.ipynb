{
 "cells": [
  {
   "cell_type": "code",
   "execution_count": 8,
   "metadata": {
    "collapsed": false
   },
   "outputs": [],
   "source": [
    "import math\n",
    "import numpy as np\n",
    "import scipy\n",
    "import scipy.stats as ss\n",
    "import sklearn.cluster as skc\n",
    "import matplotlib.pyplot as plt\n",
    "import pandas\n",
    "import time\n",
    "from time import mktime\n",
    "from datetime import datetime\n",
    "\n",
    "#suppresses pandas indexing warning for cleaner output\n",
    "#don't worry, I know what I'm doing :)\n",
    "pandas.options.mode.chained_assignment = None  # default='warn'\n",
    "\n",
    "admissions_import = pandas.read_csv('ADMISSIONS.csv')\n",
    "patients_import = pandas.read_csv('PATIENTS.csv')"
   ]
  },
  {
   "cell_type": "code",
   "execution_count": 9,
   "metadata": {
    "collapsed": true
   },
   "outputs": [],
   "source": [
    "admissions = admissions_import.copy()\n",
    "patients = patients_import.copy()\n",
    "data = pandas.merge(admissions,patients,on='SUBJECT_ID',how='left')"
   ]
  },
  {
   "cell_type": "code",
   "execution_count": 10,
   "metadata": {
    "collapsed": false
   },
   "outputs": [],
   "source": [
    "#parses date input of the form \"YYYY-MM-DD HH:MM:SS\"\n",
    "#converts it to a datetime\n",
    "def parse_time(time_str):\n",
    "    if (pandas.notnull(time_str)):\n",
    "        temp_time = time.strptime(time_str, \"%Y-%m-%d %H:%M:%S\")\n",
    "        return datetime.fromtimestamp(mktime(temp_time))\n",
    "    else:\n",
    "        return time_str\n",
    "    \n",
    "def sec_between(x,y):\n",
    "    return (parse_time(y) - parse_time(x)).total_seconds()\n",
    "\n",
    "def calc_staylength(row):\n",
    "    return sec_between(row['ADMITTIME'],row['DISCHTIME'])\n",
    "\n",
    "def calc_age(row):\n",
    "    return sec_between(row['DOB'],row['ADMITTIME'])\n",
    "\n",
    "def check_old(row):\n",
    "    return 1 if(int((row['DOB'])[:4]) < 2000) else 0"
   ]
  },
  {
   "cell_type": "code",
   "execution_count": 11,
   "metadata": {
    "collapsed": false
   },
   "outputs": [],
   "source": [
    "data['ISOLD'] = data.apply(lambda row: check_old(row),axis=1)\n",
    "data = data[data.ISOLD == 0]\n",
    "data.reset_index(drop=True,inplace=True)\n",
    "data['STAYLENGTH'] = data.apply(lambda row: calc_staylength(row),axis=1)\n",
    "data['AGE'] = data.apply(lambda row: calc_age(row),axis=1)\n",
    "data['GENDER'] = data['GENDER'].map({'F':0,'M':1})\n",
    "data = data[['SUBJECT_ID','HADM_ID','ADMITTIME','AGE','STAYLENGTH','GENDER','EXPIRE_FLAG']]"
   ]
  },
  {
   "cell_type": "code",
   "execution_count": 16,
   "metadata": {
    "collapsed": false
   },
   "outputs": [],
   "source": [
    "features = data.copy()\n",
    "features['NEXTVISIT']=np.nan\n",
    "\n",
    "sec_in_day = (60*60*24)\n",
    "large_offset = 10000\n",
    "\n",
    "for i in range(len(features)-1):\n",
    "    if(features.ix[i,'SUBJECT_ID'] == features.ix[i+1,'SUBJECT_ID']):\n",
    "        features.ix[i,'NEXTVISIT'] = sec_between(features.ix[i,'ADMITTIME'],features.ix[i+1,'ADMITTIME'])\n",
    "    else:\n",
    "        features.ix[i,'NEXTVISIT'] = sec_in_day * large_offset\n",
    "features.ix[len(features)-1,'NEXTVISIT'] = sec_in_day * large_offset\n",
    "        \n",
    "features = features[['AGE','STAYLENGTH','GENDER','EXPIRE_FLAG','NEXTVISIT']]\n",
    "\n",
    "features['STAYLENGTH'] = features['STAYLENGTH'] / sec_in_day\n",
    "features['AGE'] = features['AGE'] / sec_in_day\n",
    "features['NEXTVISIT'] = features['NEXTVISIT'] / sec_in_day"
   ]
  },
  {
   "cell_type": "code",
   "execution_count": 15,
   "metadata": {
    "collapsed": false
   },
   "outputs": [
    {
     "data": {
      "text/plain": [
       "(56360, 5)"
      ]
     },
     "execution_count": 15,
     "metadata": {},
     "output_type": "execute_result"
    }
   ],
   "source": [
    "features.shape"
   ]
  },
  {
   "cell_type": "code",
   "execution_count": 17,
   "metadata": {
    "collapsed": false
   },
   "outputs": [
    {
     "name": "stdout",
     "output_type": "stream",
     "text": [
      "['AGE', 'STAYLENGTH', 'GENDER', 'EXPIRE_FLAG']\n",
      "[[ -3.04191846e-02  -9.59083297e+00   7.60880319e+01  -1.15029008e+03]]\n"
     ]
    }
   ],
   "source": [
    "from sklearn.ensemble import RandomForestRegressor\n",
    "from sklearn.linear_model import LinearRegression\n",
    "\n",
    "train_data = features[['AGE','STAYLENGTH','GENDER','EXPIRE_FLAG']]\n",
    "staylength = features[['NEXTVISIT']]\n",
    "\n",
    "def predict(train_data,predict,final):\n",
    "    pred = LinearRegression()\n",
    "    pred = pred.fit(train_data, staylength)\n",
    "    print(list(train_data))\n",
    "    print(pred.coef_)\n",
    "        \n",
    "predict(train_data,staylength,True)"
   ]
  },
  {
   "cell_type": "code",
   "execution_count": null,
   "metadata": {
    "collapsed": false
   },
   "outputs": [],
   "source": []
  }
 ],
 "metadata": {
  "anaconda-cloud": {},
  "kernelspec": {
   "display_name": "Python [default]",
   "language": "python",
   "name": "python3"
  },
  "language_info": {
   "codemirror_mode": {
    "name": "ipython",
    "version": 3
   },
   "file_extension": ".py",
   "mimetype": "text/x-python",
   "name": "python",
   "nbconvert_exporter": "python",
   "pygments_lexer": "ipython3",
   "version": "3.5.2"
  }
 },
 "nbformat": 4,
 "nbformat_minor": 1
}
