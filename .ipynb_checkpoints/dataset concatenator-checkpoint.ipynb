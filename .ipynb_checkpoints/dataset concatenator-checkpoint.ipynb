{
 "cells": [
  {
   "cell_type": "code",
   "execution_count": 24,
   "metadata": {
    "collapsed": false
   },
   "outputs": [],
   "source": [
    "import math\n",
    "import numpy as np\n",
    "import scipy\n",
    "import scipy.stats as ss\n",
    "import sklearn.cluster as skc\n",
    "import matplotlib.pyplot as plt\n",
    "import pandas\n",
    "import time\n",
    "from time import mktime\n",
    "from datetime import datetime\n",
    "\n",
    "#suppresses pandas indexing warning for cleaner output\n",
    "#don't worry, I know what I'm doing :)\n",
    "pandas.options.mode.chained_assignment = None  # default='warn'\n",
    "\n",
    "admissions = pandas.read_csv('data/ADMISSIONS.csv')\n",
    "patients = pandas.read_csv('data/PATIENTS.csv')\n",
    "diagnoses_icd = pandas.read_csv('data/DIAGNOSES_ICD.csv')\n",
    "d_icd_diagnoses = pandas.read_csv('data/D_ICD_DIAGNOSES.csv')\n",
    "services = pandas.read_csv('data/SERVICES.csv')"
   ]
  },
  {
   "cell_type": "code",
   "execution_count": 25,
   "metadata": {
    "collapsed": false
   },
   "outputs": [],
   "source": [
    "#concatenate data\n",
    "data = pandas.merge(admissions,patients,on='SUBJECT_ID',how='left')\n",
    "data = pandas.merge(data,services,on='HADM_ID',how='left')\n",
    "data.drop('SUBJECT_ID_y', axis=1, inplace=True)\n",
    "data.drop('PREV_SERVICE', axis=1, inplace=True)\n",
    "data.drop('ROW_ID_x', axis=1, inplace=True)\n",
    "data.rename(columns={'SUBJECT_ID_x': 'SUBJECT_ID'}, inplace=True)\n",
    "\n",
    "data_diagnoses_sparse = data.copy()"
   ]
  },
  {
   "cell_type": "code",
   "execution_count": 26,
   "metadata": {
    "collapsed": true
   },
   "outputs": [],
   "source": [
    "#parses date input of the form \"YYYY-MM-DD HH:MM:SS\"\n",
    "#converts it to a datetime\n",
    "def parse_time(time_str):\n",
    "    if (pandas.notnull(time_str)):\n",
    "        temp_time = time.strptime(time_str, \"%Y-%m-%d %H:%M:%S\")\n",
    "        return datetime.fromtimestamp(mktime(temp_time))\n",
    "    else:\n",
    "        return time_str\n",
    "    \n",
    "def sec_between(x,y):\n",
    "    return (parse_time(y) - parse_time(x)).total_seconds()\n",
    "\n",
    "def calc_staylength(row):\n",
    "    return sec_between(row['ADMITTIME'],row['DISCHTIME'])\n",
    "\n",
    "def calc_age(row):\n",
    "    return sec_between(row['DOB'],row['ADMITTIME'])"
   ]
  },
  {
   "cell_type": "code",
   "execution_count": null,
   "metadata": {
    "collapsed": true
   },
   "outputs": [],
   "source": [
    "data.reset_index(drop=True,inplace=True)\n",
    "data['STAYLENGTH'] = data.apply(lambda row: calc_staylength(row),axis=1)\n",
    "data['GENDER'] = data['GENDER'].map({'F':0,'M':1})"
   ]
  },
  {
   "cell_type": "code",
   "execution_count": null,
   "metadata": {
    "collapsed": true
   },
   "outputs": [],
   "source": [
    "data['NEXTVISIT']=np.nan\n",
    "\n",
    "sec_in_day = (60*60*24)\n",
    "large_offset = 10000\n",
    "\n",
    "for i in range(len(data)-1):\n",
    "    if(data.ix[i,'SUBJECT_ID'] == data.ix[i+1,'SUBJECT_ID']):\n",
    "        data.ix[i,'NEXTVISIT'] = sec_between(data.ix[i,'ADMITTIME'],data.ix[i+1,'ADMITTIME'])\n",
    "    else:\n",
    "        data.ix[i,'NEXTVISIT'] = sec_in_day * large_offset\n",
    "data.ix[len(data)-1,'NEXTVISIT'] = sec_in_day * large_offset\n",
    "\n",
    "data['STAYLENGTH'] = data['STAYLENGTH'] / sec_in_day"
   ]
  },
  {
   "cell_type": "code",
   "execution_count": null,
   "metadata": {
    "collapsed": false
   },
   "outputs": [],
   "source": [
    "data.to_csv('concatenated_data.csv', encoding='utf-8')"
   ]
  }
 ],
 "metadata": {
  "anaconda-cloud": {},
  "kernelspec": {
   "display_name": "Python [default]",
   "language": "python",
   "name": "python3"
  },
  "language_info": {
   "codemirror_mode": {
    "name": "ipython",
    "version": 3
   },
   "file_extension": ".py",
   "mimetype": "text/x-python",
   "name": "python",
   "nbconvert_exporter": "python",
   "pygments_lexer": "ipython3",
   "version": "3.5.2"
  }
 },
 "nbformat": 4,
 "nbformat_minor": 1
}
