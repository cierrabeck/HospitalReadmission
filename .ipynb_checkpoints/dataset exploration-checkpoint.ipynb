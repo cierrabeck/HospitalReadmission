{
 "cells": [
  {
   "cell_type": "code",
   "execution_count": 7,
   "metadata": {
    "collapsed": false
   },
   "outputs": [],
   "source": [
    "import math\n",
    "import numpy as np\n",
    "import scipy\n",
    "import scipy.stats as ss\n",
    "import sklearn.cluster as skc\n",
    "import matplotlib.pyplot as plt\n",
    "import pandas\n",
    "import time\n",
    "from time import mktime\n",
    "from datetime import datetime\n",
    "\n",
    "#suppresses pandas indexing warning for cleaner output\n",
    "#don't worry, I know what I'm doing :)\n",
    "pandas.options.mode.chained_assignment = None  # default='warn'\n",
    "\n",
    "admissions = pandas.read_csv('data/ADMISSIONS.csv')\n",
    "patients = pandas.read_csv('data/PATIENTS.csv')\n",
    "diagnoses_icd = pandas.read_csv('data/DIAGNOSES_ICD.csv')\n",
    "d_icd_diagnoses = pandas.read_csv('data/D_ICD_DIAGNOSES.csv')\n",
    "services = pandas.read_csv('data/SERVICES.csv')"
   ]
  },
  {
   "cell_type": "code",
   "execution_count": 11,
   "metadata": {
    "collapsed": false
   },
   "outputs": [],
   "source": [
    "data = pandas.merge(admissions,patients,on='SUBJECT_ID',how='left')\n",
    "data = pandas.merge(data,services,on='HADM_ID',how='left')\n",
    "data.drop('SUBJECT_ID_y', axis=1, inplace=True)\n",
    "data.drop('PREV_SERVICE', axis=1, inplace=True)"
   ]
  },
  {
   "cell_type": "code",
   "execution_count": 13,
   "metadata": {
    "collapsed": false
   },
   "outputs": [],
   "source": [
    "data.to_csv('concatenated_data.csv', encoding='utf-8')"
   ]
  }
 ],
 "metadata": {
  "anaconda-cloud": {},
  "kernelspec": {
   "display_name": "Python [default]",
   "language": "python",
   "name": "python3"
  },
  "language_info": {
   "codemirror_mode": {
    "name": "ipython",
    "version": 3
   },
   "file_extension": ".py",
   "mimetype": "text/x-python",
   "name": "python",
   "nbconvert_exporter": "python",
   "pygments_lexer": "ipython3",
   "version": "3.5.2"
  }
 },
 "nbformat": 4,
 "nbformat_minor": 1
}
